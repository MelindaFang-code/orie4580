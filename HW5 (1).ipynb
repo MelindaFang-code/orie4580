{
  "cells": [
    {
      "cell_type": "markdown",
      "metadata": {
        "id": "yEYDm_ICb4GC"
      },
      "source": [
        "# ORIE 4580/5580/5581 Assignment 5\n",
        "\n",
        "#### Students: S. Ulam (su001) and J. von Neuman (jvn001)\n",
        "\n",
        "### Github link: [example Github link](https://github.com/SidBanerjee/ORIE4580-Simulation/blob/main/Notebooks/Unit0-Intro_Demos.ipynb)\n"
      ]
    },
    {
      "cell_type": "markdown",
      "source": [
        "### Instructions\n",
        "\n",
        "\n",
        "* Due Friday, October 13, at 11.59am on Gradescope.\n",
        "* Assignment .ipynb files available for download on [Canvas](https://canvas.cornell.edu/courses/56826#:~:text=Assignments-,Assignments,-Assignments%20Module%20publish). Do all your work in provided notebook (text answers typeset in markdown; show all required code and generate plots inline), and then generate and submit a pdf.\n",
        "* Ideally do assignments in groups of 2, and submit a single pdf with both names\n",
        "* Please show your work and clearly mark your answers.\n",
        "* You can use any code fragments given in class, found online (for example, on StackOverflow), or generated via Bard or ChatGPT (you are encouraged to use these for first drafts) **with proper referencing**. You can also discuss with others (again, please reference them if you do so); but you must write your final answers on your own as a team.\n",
        "\n",
        "\n",
        "\n",
        "### Suggested reading\n",
        "\n",
        "Chapters 8 (all parts) and 9 (up to Section 9.2 for the midterm) of [Simulation by Ross](https://catalog.library.cornell.edu/catalog/12745977)."
      ],
      "metadata": {
        "id": "l3G_wUFRg9v6"
      }
    },
    {
      "cell_type": "code",
      "source": [
        "import pandas as pd\n",
        "from google.colab import drive\n",
        "drive.mount('/content/drive')"
      ],
      "metadata": {
        "colab": {
          "base_uri": "https://localhost:8080/"
        },
        "id": "NSfxJ3d-kCPz",
        "outputId": "e6001e44-3cf9-4fa7-88d3-8eaf9b0ae739"
      },
      "execution_count": 24,
      "outputs": [
        {
          "output_type": "stream",
          "name": "stdout",
          "text": [
            "Mounted at /content/drive\n"
          ]
        }
      ]
    },
    {
      "cell_type": "code",
      "source": [
        "import numpy as np\n",
        "import scipy.stats as sc\n",
        "import matplotlib.pyplot as plt\n",
        "%matplotlib inline\n",
        "import pandas as pd"
      ],
      "metadata": {
        "id": "6MMEM1dZkJud"
      },
      "execution_count": 25,
      "outputs": []
    },
    {
      "cell_type": "markdown",
      "source": [
        "\n",
        "\n",
        "\n",
        "---\n",
        "---\n",
        "\n",
        "\n",
        "# Question 1: Red-Tailed Hawks! (15 points)\n",
        "\n",
        "(Dedicated to [Big Red and Arthur](https://www.youtube.com/watch?v=diIn5tc8AJo), and their amazing family!)\n",
        "\n",
        "A School of Ornithology researcher wants to estimate the number of red-tailed hawks in Ithaca. She radio tags 10 birds, and then sets up a feeding station with automatic camera.\n",
        "\n",
        "The researcher believes that each individual bird's visits to the feeder can be modeled as a *Poisson process* with some unknown rate $\\lambda$; we will talk more about the Poisson process in detail later in the semester (for a quick refresher, see Section 2.9.4 of Ross), but for this question, the main thing you need to know is that this is a process that counts a discrete number of arrivals, where the *inter-arrival* between one arrival and the next is independent and identically distributed as an Exponential$(\\lambda)$ random variable (similar to the trains in question 5b in the previous assignment).\n",
        "\n",
        "**(a)**\n",
        "Over the first five weeks, the researcher observes an average of 28.8 birds (tagged and untagged) visiting the feeder, with an average of 6 tagged birds per week. Use the method of moments to obtain an estimate for the total population."
      ],
      "metadata": {
        "id": "5AMJpIgg0AUP"
      }
    },
    {
      "cell_type": "markdown",
      "source": [
        "___\n",
        "## Ans.\n"
      ],
      "metadata": {
        "id": "FdZFPY8J00Nz"
      }
    },
    {
      "cell_type": "markdown",
      "source": [
        "Let x be the number of visits by tagged birds, the mean of Poisson distribution is $E[x] = \\lambda$ \\\n",
        "By method of moment $$\\lambda = 6$$ \\\n",
        "so the number of visits by 1 bird is $6/10 = 0.6$ \\\n",
        "Since for each week an average of 28.8 birds visits, assume we have P birds in total, $$0.6P = 28.8$$ \\\n",
        "$$ P = 48 $$\n"
      ],
      "metadata": {
        "id": "2DforiVGl4JY"
      }
    },
    {
      "cell_type": "markdown",
      "source": [
        "___\n",
        "\n",
        "**(b)** Next, the researcher develops a video processing program which can identify and distinguish different individual birds from their pictures. Using this, over the next week, she observes 20 unique birds visiting the feeding station, out of which 4 are tagged. What is the MLE for the size of the hawk population in Ithaca?\n",
        "\n",
        "___"
      ],
      "metadata": {
        "id": "kHPnqRj105lL"
      }
    },
    {
      "cell_type": "markdown",
      "source": [],
      "metadata": {
        "id": "CpE6D5-1AXNv"
      }
    },
    {
      "cell_type": "markdown",
      "source": [
        "## Ans.\n",
        "we want to maximize the probability that 20 unique birds visiting the feeding station, out of which 4 are tagged. \\\n",
        "possible combinations of 20 birds visiting and 4 of them are tagged = comb(n-10,16)*comb(10,4) \\\n",
        "total possible combinations are comb(n,20)\n"
      ],
      "metadata": {
        "id": "o-b5c59b2CV-"
      }
    },
    {
      "cell_type": "code",
      "source": [
        "from scipy.special import comb\n",
        "\n",
        "def logprob(n):\n",
        "    return comb(n-10,16)*comb(10,4)/comb(n,20)\n",
        "\n",
        "x = np.arange(20,80)\n",
        "plt.plot(x,logprob(x),'o')\n",
        "idx = np.argmax(logprob(x))\n",
        "mle = x[idx]\n",
        "print(mle)"
      ],
      "metadata": {
        "id": "mT-3ogKx2Hzl",
        "colab": {
          "base_uri": "https://localhost:8080/",
          "height": 448
        },
        "outputId": "aed912b3-4037-4964-fb90-3a4528a7dc69"
      },
      "execution_count": 67,
      "outputs": [
        {
          "output_type": "stream",
          "name": "stdout",
          "text": [
            "50\n"
          ]
        },
        {
          "output_type": "display_data",
          "data": {
            "text/plain": [
              "<Figure size 640x480 with 1 Axes>"
            ],
            "image/png": "[encoded data removed]"
          },
          "metadata": {}
        }
      ]
    },
    {
      "cell_type": "markdown",
      "source": [
        "MLE is 50"
      ],
      "metadata": {
        "id": "6DvMIzYENRNw"
      }
    },
    {
      "cell_type": "markdown",
      "metadata": {
        "id": "YX0Mw-EVb4GE"
      },
      "source": [
        "___\n",
        "___\n",
        "\n",
        "# Question 2: Soup for Lunch? (15 points)\n",
        "\n",
        "The folks at the [Temple of Zeus](https://as.cornell.edu/about/temple-of-zeus) have the best soup offerings at Cornell -- however, by the time you are done with Simulation, they often run out of soup. To remedy this, you want to try and understand the demand for soup, so that you can suggest how much they should make. You decide to model the total demand $N$ for soups each day as a geometric random variable with parameter $p$ (i.e., $P(N = k) = (1-p)^kp$, $k \\ge 0$).\n",
        "\n",
        "The Temple of Zeus manager gives you data for the number of lunches sold in the last $100$ days. One problem though is that the data is *censored*: the staff prepared soup for at most $40$ servings each day, and as a result, the number of sales each day is between 0 and 40. As a result, on days when the number of soups sold is $40$, you cannot be sure what the true demand $N_i$ was (but you know $N_i\\geq 40$); on other days, the number of soups sold is the true demand $N_i<40$."
      ]
    },
    {
      "cell_type": "markdown",
      "metadata": {
        "id": "Yjy3dHqpb4GF"
      },
      "source": [
        "___\n",
        "\n",
        "**(a)**\n",
        "What is the probability mass function of the per-day sales $Y$ in terms of $p$?\n",
        "___\n"
      ]
    },
    {
      "cell_type": "markdown",
      "metadata": {
        "id": "wOQnI769b4GF"
      },
      "source": [
        "## Ans.\n"
      ]
    },
    {
      "cell_type": "markdown",
      "source": [
        "\\begin{align*}\n",
        "\\text{if N < 40: } P(Y = N) = (1-p)^Np \\\\\n",
        "\\text{if N = 40: } P(Y = N) = p\\sum_{k=40}^{∞}(1-p)^N \\\\\n",
        "= p(1-p)^{40}\\sum_{k=0}^{∞}(1-p)^N = \\frac{p(1-p)^{40}}{p} = (1-p)^{40}\\\\\n",
        "\\text{otherwise: } P(Y = N) = 0\n",
        "\\end{align*}"
      ],
      "metadata": {
        "id": "4eweabYn2oEq"
      }
    },
    {
      "cell_type": "markdown",
      "metadata": {
        "id": "DRpHC9hbb4GF"
      },
      "source": [
        "___\n",
        "\n",
        "**(b)** Compute a maximum likelihood estimator of $p$ based on the sales data for soup given in `Soup_sales_data.csv`.\n",
        "___"
      ]
    },
    {
      "cell_type": "markdown",
      "metadata": {
        "id": "1khe5-56b4GF"
      },
      "source": [
        "## Ans.\n"
      ]
    },
    {
      "cell_type": "code",
      "source": [
        "df_soup = pd.read_csv(\"/content/drive/MyDrive/orie4580/Soup_sales_data.csv\")"
      ],
      "metadata": {
        "id": "00N4KuJqlEHf"
      },
      "execution_count": null,
      "outputs": []
    },
    {
      "cell_type": "code",
      "source": [
        "import math\n",
        "from functools import partial\n",
        "import matplotlib.pyplot as plt\n",
        "\n",
        "def logProb(p, x):\n",
        "  if x < 40:\n",
        "    return x * math.log(1 - p) + math.log(p)\n",
        "  elif x == 40:\n",
        "    return 40 * math.log(1 - p)\n",
        "\n",
        "prob = []\n",
        "sumLogP = []\n",
        "p = 0.01\n",
        "step = 0.00005\n",
        "while p <= 0.1:\n",
        "  sumLogP.append(-df_soup['Y'].apply(partial(logProb, p)).sum())\n",
        "  prob.append(p)\n",
        "  p += step\n",
        "\n",
        "plt.plot(prob, sumLogP)\n",
        "plt.show()\n",
        "print(min(zip(sumLogP, prob)))"
      ],
      "metadata": {
        "colab": {
          "base_uri": "https://localhost:8080/",
          "height": 448
        },
        "id": "1qMly5lhrvLW",
        "outputId": "994a28e8-6db1-49ff-8ff7-58782b14b518"
      },
      "execution_count": null,
      "outputs": [
        {
          "output_type": "display_data",
          "data": {
            "text/plain": [
              "<Figure size 640x480 with 1 Axes>"
            ],
            "image/png": "[encoded data removed]"
          },
          "metadata": {}
        },
        {
          "output_type": "stream",
          "name": "stdout",
          "text": [
            "(303.99343020713997, 0.026800000000000285)\n"
          ]
        }
      ]
    },
    {
      "cell_type": "markdown",
      "source": [
        "___\n",
        "___\n",
        "\n",
        "# Question 3: The Birthday Paradox (40 pts)\n",
        "\n",
        "In this question, we investigate the celebrated [birthday paradox](https://en.wikipedia.org/wiki/Birthday_problem)!"
      ],
      "metadata": {
        "id": "Lh-UW13FuhSQ"
      }
    },
    {
      "cell_type": "markdown",
      "source": [
        "___\n",
        "\n",
        "**(a)** The basic question you may have seen in earlier probability courses is the following: given a party of $n$ people whose birthdays are drawn uniformly over the $365$ days in the year, what is the probability that at least two people share a birthday. Derive an expression for the probability, and plot it for $n\\in\\{10,11,12,\\ldots,49,50\\}$.\n",
        "___"
      ],
      "metadata": {
        "id": "yc0A7WxsuyEy"
      }
    },
    {
      "cell_type": "markdown",
      "source": [
        "## Ans."
      ],
      "metadata": {
        "id": "EGsUT8JvwI-7"
      }
    },
    {
      "cell_type": "code",
      "source": [
        "import numpy as np\n",
        "import matplotlib.pyplot as plt\n",
        "\n",
        "logP = [0]\n",
        "ppl = [1]\n",
        "\n",
        "for x in range(2, 51):\n",
        "  logP.append(logP[-1] + np.log((365 - x + 1) / 365))\n",
        "  ppl.append(x)\n",
        "\n",
        "prob = 1 - np.exp(logP)\n",
        "\n",
        "plt.plot(ppl[9:], prob[9:])\n",
        "plt.show()\n"
      ],
      "metadata": {
        "id": "CGZf5O0Kx9Ws",
        "colab": {
          "base_uri": "https://localhost:8080/",
          "height": 430
        },
        "outputId": "c32bc69d-1d5d-4ded-c9be-03bb0c2ef399"
      },
      "execution_count": 19,
      "outputs": [
        {
          "output_type": "display_data",
          "data": {
            "text/plain": [
              "<Figure size 640x480 with 1 Axes>"
            ],
            "image/png": "[encoded data removed]"
          },
          "metadata": {}
        }
      ]
    },
    {
      "cell_type": "markdown",
      "source": [
        "___\n",
        "**(b)** Next, we want to obtain the above probabilities by simulation. For a given $n$, perform simulations so as to estimate the probability  of at least two people sharing birthdays in a group of $n$, for $n\\in\\{15,16,\\ldots,30\\}$, up to $2$ decimal places (with $95\\%$ confidence). Plot the estimates and $95\\%$ CI, and also plot the theoretical result from part $(a)$ in the same plot.\n",
        "___"
      ],
      "metadata": {
        "id": "QhBwTPrLwKhV"
      }
    },
    {
      "cell_type": "markdown",
      "source": [
        "## Ans."
      ],
      "metadata": {
        "id": "_u8ikVrMx664"
      }
    },
    {
      "cell_type": "code",
      "source": [
        "N = 1500\n",
        "means = []\n",
        "stds = []\n",
        "left = []\n",
        "right =[]\n",
        "for n in range(15, 31):\n",
        "\n",
        "  sample = np.random.randint(low = 1, high=365, size = (N,n))\n",
        "  res = np.zeros(N)\n",
        "\n",
        "  for i in range(N):\n",
        "    if len(set(sample[i])) < n:\n",
        "      res[i] =1\n",
        "  mean = sum(res)/N\n",
        "  means.append(mean)\n",
        "\n",
        "  s = np.std(res)\n",
        "  err = 1.97 * s/np.sqrt(N)\n",
        "  left.append(mean - err)\n",
        "  right.append(mean + err)\n"
      ],
      "metadata": {
        "id": "L9gMbHO2x8cT"
      },
      "execution_count": 21,
      "outputs": []
    },
    {
      "cell_type": "code",
      "source": [
        "\n",
        "plt.plot(ppl[14:30], prob[14:30])\n",
        "plt.plot(ppl[14:30], means)\n",
        "plt.plot(ppl[14:30], left)\n",
        "plt.plot(ppl[14:30], right)\n",
        "plt.show()\n"
      ],
      "metadata": {
        "colab": {
          "base_uri": "https://localhost:8080/",
          "height": 430
        },
        "id": "N1cmxQt8watm",
        "outputId": "e9c7791e-c4e7-4e14-af17-2caa12581717"
      },
      "execution_count": 22,
      "outputs": [
        {
          "output_type": "display_data",
          "data": {
            "text/plain": [
              "<Figure size 640x480 with 1 Axes>"
            ],
            "image/png": "[encoded data removed]"
          },
          "metadata": {}
        }
      ]
    },
    {
      "cell_type": "markdown",
      "source": [
        "\n",
        "\n",
        "---\n",
        "\n",
        "**(c)** One flaw in our analysis is that birth-dates may not be uniformly distributed throughout the year. To check this, we can look at data of real birth-dates.\n",
        "\n",
        "The file `bdaydata.txt` has a list of $365$ days in the year (excluding February $29$) and the corresponding number of birthdays on that date. Load the dataset and plot the following:\n",
        "\n",
        "i. Empirical histogram of the data\n",
        "\n",
        "ii. Empirical cdf\n",
        "\n",
        "iii. Q-Q plot comparing the data to a uniform distribution\n",
        "\n",
        "(Dataset based on life insurance data from 1981-94; data and example courtesy [Roy Murphy](http://www.panix.com/~murphy/bday.html).)\n",
        "___"
      ],
      "metadata": {
        "id": "fT4Jt0Inx99q"
      }
    },
    {
      "cell_type": "markdown",
      "source": [
        "## Ans."
      ],
      "metadata": {
        "id": "g4c_Csc_ywpw"
      }
    },
    {
      "cell_type": "code",
      "source": [
        "# For loading the data, you can use \"df = pd.read_csv('bdaydata.txt',sep=' ')\"\n",
        "# Please note that the txt file needs to be placed in the same folder with the ipynb file.\n",
        "# To extract the counts column as a vector, use \"df.values[:,1]\"\n",
        "df = pd.read_csv(\"/content/drive/MyDrive/orie4580/bdaydata.txt\", sep=' ')\n"
      ],
      "metadata": {
        "id": "NkcHgFB4yy41"
      },
      "execution_count": 26,
      "outputs": []
    },
    {
      "cell_type": "code",
      "source": [
        "\n",
        "plt.figure(figsize=[10,8])\n",
        "\n",
        "plt.bar(df['date'], df['count'])\n",
        "\n",
        "# Display the histogram plot\n",
        "plt.show()\n"
      ],
      "metadata": {
        "colab": {
          "base_uri": "https://localhost:8080/",
          "height": 676
        },
        "id": "VuhxofX-7YiJ",
        "outputId": "5b99b45f-73ad-4ba1-80e0-4b6358dcb882"
      },
      "execution_count": 27,
      "outputs": [
        {
          "output_type": "display_data",
          "data": {
            "text/plain": [
              "<Figure size 1000x800 with 1 Axes>"
            ],
            "image/png": "[encoded data removed]"
          },
          "metadata": {}
        }
      ]
    },
    {
      "cell_type": "code",
      "source": [
        "from scipy.stats import expon, foldnorm, norm\n",
        "\n",
        "def emp_cdf(df):\n",
        "  n = df['count'].sum()\n",
        "\n",
        "  cdf = []\n",
        "  sum = 0\n",
        "  for x in df['count']:\n",
        "    sum += x\n",
        "    cdf.append(sum / n)\n",
        "\n",
        "  return np.arange(1, 366), cdf\n"
      ],
      "metadata": {
        "id": "JSLseRYX7kV0"
      },
      "execution_count": 28,
      "outputs": []
    },
    {
      "cell_type": "code",
      "source": [
        "# # For this part, we use an even smaller dataset, retaining only the first 20 samples\n",
        "plt.figure(figsize=[10, 8])\n",
        "\n",
        "# Calculate the empirical CDF of the dataset\n",
        "x, ecdf = emp_cdf(df)\n",
        "\n",
        "z_1 = np.multiply(ecdf, 365.0)\n",
        "\n",
        "# Plot the uni approximation as a yellow dotted line\n",
        "plt.plot(x, z_1, '.', linewidth=0.001, label='uniform approximation')  # Points in the Q-Q plot\n",
        "plt.plot(x, x, 'm', linewidth=3)  # Theoretical quantiles as a magenta dotted line\n",
        "\n",
        "# Add a legend to the plot\n",
        "plt.legend(loc=4)\n",
        "\n",
        "# Show the plot\n",
        "plt.show()\n"
      ],
      "metadata": {
        "colab": {
          "base_uri": "https://localhost:8080/",
          "height": 676
        },
        "id": "B-PYhotx7mg-",
        "outputId": "e6a2629e-d737-4792-b3ba-0d570aa17335"
      },
      "execution_count": 29,
      "outputs": [
        {
          "output_type": "display_data",
          "data": {
            "text/plain": [
              "<Figure size 1000x800 with 1 Axes>"
            ],
            "image/png": "[encoded data removed]"
          },
          "metadata": {}
        }
      ]
    },
    {
      "cell_type": "markdown",
      "source": [
        "___\n",
        "\n",
        "**(d)** Perform a Chi-square Test **and** a Kolmogorov-Smirnov Test to study how well the data is modeled by a uniform distribution.\n",
        "\n",
        "___"
      ],
      "metadata": {
        "id": "4983wTTlkaG0"
      }
    },
    {
      "cell_type": "markdown",
      "source": [
        "## Ans.\n"
      ],
      "metadata": {
        "id": "0dWUUfznkl5k"
      }
    },
    {
      "cell_type": "code",
      "source": [
        "from scipy.stats import chisquare\n",
        "\n",
        "n = df['count'].sum()\n",
        "k = 365\n",
        "s = 0\n",
        "obs = df['count']\n",
        "exp = np.empty(365)\n",
        "exp.fill(n/365)\n"
      ],
      "metadata": {
        "id": "F3XLVod3kuIc"
      },
      "execution_count": 31,
      "outputs": []
    },
    {
      "cell_type": "code",
      "source": [
        "chi_sq_result = chisquare(obs,exp,ddof=s)\n",
        "print(chi_sq_result)"
      ],
      "metadata": {
        "colab": {
          "base_uri": "https://localhost:8080/"
        },
        "id": "KI-BdVrnGxdI",
        "outputId": "25dd14e9-7d7d-47a9-9b2d-3b2172627386"
      },
      "execution_count": 32,
      "outputs": [
        {
          "output_type": "stream",
          "name": "stdout",
          "text": [
            "Power_divergenceResult(statistic=1352.7233599950073, pvalue=1.2489373800065057e-113)\n"
          ]
        }
      ]
    },
    {
      "cell_type": "markdown",
      "source": [
        "Based on the chi-squared test, we should reject the null hypothesis. Uniform distribution is not a good fit since pvalue is smaller than 0.05"
      ],
      "metadata": {
        "id": "r0cFs9QKTuSr"
      }
    },
    {
      "cell_type": "code",
      "source": [
        "import scipy\n",
        "Hyp_cdf = np.arange(1, 366)/365\n",
        "X_sort = np.arange(1, 366)\n",
        "\n",
        "# Calculate the Kolmogorov-Smirnov (KS) statistic\n",
        "D_KS = np.max(np.concatenate((np.abs(Hyp_cdf[1:] - ecdf[:-1]), np.abs(Hyp_cdf - ecdf)), axis=0))\n",
        "\n",
        "# Print the KS statistic\n",
        "print(\"The KS statistic is D = \" + str(round(D_KS, 8))+'\\n')\n"
      ],
      "metadata": {
        "colab": {
          "base_uri": "https://localhost:8080/"
        },
        "id": "CPp9oh9IV6Sw",
        "outputId": "8d8f789d-d568-4ae4-90d4-a573b94f12ee"
      },
      "execution_count": 37,
      "outputs": [
        {
          "output_type": "stream",
          "name": "stdout",
          "text": [
            "The KS statistic is D = 0.01276614\n",
            "\n"
          ]
        }
      ]
    },
    {
      "cell_type": "code",
      "source": [
        "from scipy.stats import kstest\n",
        "vals = []\n",
        "for val, index in df.iterrows():\n",
        "  vals.extend([val] * index['count'])\n",
        "kstest(rvs=vals,cdf=\"uniform\", args=(0, 365), N=n)"
      ],
      "metadata": {
        "colab": {
          "base_uri": "https://localhost:8080/"
        },
        "id": "jETlraU91rEY",
        "outputId": "d6ed0fc8-b25b-412a-a747-ab4af72b1fb3"
      },
      "execution_count": 65,
      "outputs": [
        {
          "output_type": "execute_result",
          "data": {
            "text/plain": [
              "KstestResult(statistic=0.012766143582639944, pvalue=1.761773563266988e-68, statistic_location=178, statistic_sign=-1)"
            ]
          },
          "metadata": {},
          "execution_count": 65
        }
      ]
    },
    {
      "cell_type": "markdown",
      "source": [
        "the KS statistic is small, and p value is smaller than 0.05, so the null hypothesis is rejected, indicating a significant difference between the data and the hypothesized distribution.\n",
        "\\\n",
        "The chi-squared test has a small p-value, meaning that the null hypothesis is rejected, so it also supports that the data does not follow a uniform distribution"
      ],
      "metadata": {
        "id": "kyxD7br91wME"
      }
    },
    {
      "cell_type": "markdown",
      "source": [
        "___\n",
        "\n",
        "**(e)** Since you have an extensive dataset of birthday frequency, you can directly use the nonparametric bootstrap to estimate the probability of at least two people sharing birthdays in a group of $n$. Plot the bootstrap estimate and $95\\%$ CI for $n\\in\\{15,16,\\ldots,30\\}$, and compare against the plot in part $(b)$.\n",
        "\n",
        "___"
      ],
      "metadata": {
        "id": "ga-5b3SSkoKp"
      }
    },
    {
      "cell_type": "markdown",
      "source": [
        "## Ans.\n"
      ],
      "metadata": {
        "id": "puJK5Zkio3RD"
      }
    },
    {
      "cell_type": "code",
      "source": [
        "from scipy.stats import expon, foldnorm\n",
        "\n",
        "import matplotlib.pyplot as plt\n",
        "import random\n",
        "\n",
        "trials = 5000\n",
        "\n",
        "prob = []\n",
        "size = []\n",
        "err = []\n",
        "\n",
        "for x in range(15, 30+1):\n",
        "  success = 0\n",
        "  for _ in range(trials):\n",
        "    randomList = random.choices(df['date'], weights=df['count'], k=x)\n",
        "    if len(set(randomList)) < len(randomList):\n",
        "      success += 1\n",
        "  prob.append(success / trials)\n",
        "  size.append(x)\n",
        "\n",
        "plt.plot(size, prob)\n",
        "plt.show()\n"
      ],
      "metadata": {
        "colab": {
          "base_uri": "https://localhost:8080/",
          "height": 430
        },
        "id": "zwJSVYTZW-Gx",
        "outputId": "24beba7d-2b63-44a3-fe0a-d481de7b3d2a"
      },
      "execution_count": null,
      "outputs": [
        {
          "output_type": "display_data",
          "data": {
            "text/plain": [
              "<Figure size 640x480 with 1 Axes>"
            ],
            "image/png": "[encoded data removed]"
          },
          "metadata": {}
        }
      ]
    },
    {
      "cell_type": "markdown",
      "metadata": {
        "id": "FJhVnfbFb4GI"
      },
      "source": [
        "___\n",
        "___\n",
        "\n",
        "# Question 4: Benford's Law (30 pts)\n",
        "\n",
        "In this question, we will use the Chi-square test to study *Benford's law* in a variety of setttings. Consider a data set consisting of $n$ different numbers, and look at the leading digit of each number (for example, the leading digit of $123.456$ is $1$, and the leading digit of $-0.423$ is $4$). For many data sets, the fraction of leading digits that equal $1$ is much higher than $1/9$ (i.e., what it would be if uniformlly distributed); in fact, the probability distribution of the different leading digits $1, 2, \\ldots, 9$ is far from uniform.\n",
        "\n",
        "This observation has been observed to hold in measurements of distances to galaxies, numbers appearing in tax forms and many other settings, and has been used to detect fraud among other uses. See [the Wikipedia page](https://en.wikipedia.org/wiki/Benford\\%27s_law) for a description of this phenomena, and [this blog post](https://terrytao.wordpress.com/2009/07/03/benfords-law-zipfs-law-and-the-pareto-distribution/) for an interesting related discussion. More recently, this has also been (supposedly) misused in (supposedly) detecting (supposed) fraud in election results -- see [this Stand-Up Maths](https://www.youtube.com/watch?v=etx0k1nLn78&t=4s) video for a great example of how data analysis should be done!\n",
        "\n"
      ]
    },
    {
      "cell_type": "markdown",
      "metadata": {
        "id": "xCLoBig-b4GI"
      },
      "source": [
        "___\n",
        "\n",
        "**(a)** First, we will study this phenomena in a *synthetic* dataset. For this, compute the first digits of $n!$ for the first $1500$ integers, and plot their empirical histogram. You can use the code fragment provided to generate the first $n$ factorials.\n",
        "___\n"
      ]
    },
    {
      "cell_type": "markdown",
      "source": [
        "## Ans."
      ],
      "metadata": {
        "id": "YljDZzRgp_G8"
      }
    },
    {
      "cell_type": "code",
      "execution_count": 72,
      "metadata": {
        "id": "77FZ8tmCb4GI"
      },
      "outputs": [],
      "source": [
        "import numpy as np\n",
        "from scipy.special import factorial\n",
        "n = 1500\n",
        "fact_series = factorial(np.arange(n),exact=True)\n",
        "first_digit = np.zeros(n)\n",
        "for i in range(n):\n",
        "  first_digit[i] = int(str(fact_series[i])[0])"
      ]
    },
    {
      "cell_type": "code",
      "source": [
        "_, obs = np.unique(first_digit, return_counts=True)\n",
        "plt.bar(np.arange(1,10), obs)"
      ],
      "metadata": {
        "colab": {
          "base_uri": "https://localhost:8080/",
          "height": 448
        },
        "id": "Gp3O18yDmeDv",
        "outputId": "9f94814d-b68e-40cd-8443-7f3a0947a6e8"
      },
      "execution_count": 73,
      "outputs": [
        {
          "output_type": "execute_result",
          "data": {
            "text/plain": [
              "<BarContainer object of 9 artists>"
            ]
          },
          "metadata": {},
          "execution_count": 73
        },
        {
          "output_type": "display_data",
          "data": {
            "text/plain": [
              "<Figure size 640x480 with 1 Axes>"
            ],
            "image/png": "[encoded data removed]"
          },
          "metadata": {}
        }
      ]
    },
    {
      "cell_type": "markdown",
      "metadata": {
        "id": "HBT-fHg8b4GI"
      },
      "source": [
        "___\n",
        "**(b)** Use a Chi-square test to determine how well the data can be modeled using a uniform distribution.\n",
        "\n",
        "___\n"
      ]
    },
    {
      "cell_type": "markdown",
      "source": [
        "## Ans."
      ],
      "metadata": {
        "id": "0cfhwR8NqeWa"
      }
    },
    {
      "cell_type": "code",
      "execution_count": 74,
      "metadata": {
        "id": "Ehn4QDNZb4GI",
        "colab": {
          "base_uri": "https://localhost:8080/"
        },
        "outputId": "9731e520-a9fd-4db0-eea6-263565f3cd60"
      },
      "outputs": [
        {
          "output_type": "stream",
          "name": "stdout",
          "text": [
            "Power_divergenceResult(statistic=670.8000000000002, pvalue=1.3805718582880795e-139)\n"
          ]
        }
      ],
      "source": [
        "from scipy.stats import chisquare\n",
        "k = 9\n",
        "s = 0\n",
        "\n",
        "exp = np.empty(k)\n",
        "exp.fill(n/k)\n",
        "chi_sq_result = chisquare(obs,exp,ddof=s)\n",
        "print(chi_sq_result)"
      ]
    },
    {
      "cell_type": "markdown",
      "source": [
        "Since the p value is smaller than 0.05, we reject the null hypothesis. The uniform distribution is not a good fit"
      ],
      "metadata": {
        "id": "Xv-hWH-5uLM6"
      }
    },
    {
      "cell_type": "markdown",
      "metadata": {
        "id": "okLmo5b2b4GI"
      },
      "source": [
        "___\n",
        "\n",
        "**(c)** Next, use a Chi-square test to test how well the data is modeled using the 'Benford's Law' distribution:\n",
        "$$p(d)= \\log _{10}(d+1)-\\log _{10}(d), \\quad d\\in\\{1,2,\\ldots,9\\}$$\n",
        "\n",
        "\n",
        "___"
      ]
    },
    {
      "cell_type": "code",
      "source": [
        "import math\n",
        "exp_benford = np.empty(k)\n",
        "for d in range(1, 10):\n",
        "  exp_benford[d-1] = (math.log10(d+1) - math.log10(d))*n\n",
        "chi_sq_result2 = chisquare(obs,exp_benford,ddof=s)\n",
        "print(chi_sq_result2)"
      ],
      "metadata": {
        "colab": {
          "base_uri": "https://localhost:8080/"
        },
        "id": "appQZ_vLpO3m",
        "outputId": "dc6aa16d-4f1f-40bb-f8f3-88797082e1dd"
      },
      "execution_count": 75,
      "outputs": [
        {
          "output_type": "stream",
          "name": "stdout",
          "text": [
            "Power_divergenceResult(statistic=9.456569118464648, pvalue=0.3052548339606756)\n"
          ]
        }
      ]
    },
    {
      "cell_type": "markdown",
      "source": [
        "Since the p value is greater than 0.05, we can't reject the null hypothesis so the Benford's Law is a good fit"
      ],
      "metadata": {
        "id": "Q_EPf7u5t0y4"
      }
    },
    {
      "cell_type": "markdown",
      "metadata": {
        "id": "rVl8W5m9b4GI"
      },
      "source": [
        "___\n",
        "\n",
        "**(d)** Finally, we will repeat this analysis with a more natural dataset. The dataset `us_pop.csv` contains the US population in 100,000 different zip codes in the year 2010, and the numbers range from less than ten to almost 100,000. As above, compute the histogram of the leading digits, and use the Chi-square test to see how well the data is modeled via the uniform and the Benford's law distributions.\n",
        "___"
      ]
    },
    {
      "cell_type": "markdown",
      "source": [
        "## Ans."
      ],
      "metadata": {
        "id": "rKyZ12L2srUZ"
      }
    },
    {
      "cell_type": "code",
      "source": [
        "df = pd.read_csv(\"/content/drive/MyDrive/orie4580/us_pop.csv\")"
      ],
      "metadata": {
        "id": "6hYsGqxbpPiA"
      },
      "execution_count": 68,
      "outputs": []
    },
    {
      "cell_type": "code",
      "execution_count": 82,
      "metadata": {
        "id": "vl7qScg0b4GI",
        "colab": {
          "base_uri": "https://localhost:8080/"
        },
        "outputId": "899374b0-82ee-4dd3-cfea-ec61277efc33"
      },
      "outputs": [
        {
          "output_type": "stream",
          "name": "stdout",
          "text": [
            "uniform distribution\n",
            "Power_divergenceResult(statistic=670.8000000000002, pvalue=1.3805718582880795e-139)\n"
          ]
        }
      ],
      "source": [
        "n = len(df)\n",
        "first_digit = np.zeros(n)\n",
        "for i in range(n):\n",
        "  first_digit[i] = int(str(df['population'][i])[0])\n",
        "_, obs_pop = np.unique(first_digit, return_counts=True)\n",
        "exp_pop_uni = np.empty(k)\n",
        "exp_pop_uni.fill(n/k)\n",
        "chi_sq_result_uni = chisquare(obs,exp,ddof=s)\n",
        "print(\"uniform distribution\")\n",
        "print(chi_sq_result_uni)"
      ]
    },
    {
      "cell_type": "markdown",
      "source": [
        "Since the p value is smaller than 0.05, we reject the null hypothesis. The uniform distribution is not a good fit"
      ],
      "metadata": {
        "id": "w9SJeU_YuAbd"
      }
    },
    {
      "cell_type": "code",
      "source": [
        "exp_benford_pop = np.empty(k)\n",
        "for d in range(1, 10):\n",
        "  exp_benford_pop[d-1] = (math.log10(d+1) - math.log10(d))*n\n",
        "chi_sq_result_ben_pop = chisquare(obs_pop,exp_benford_pop,ddof=0)\n",
        "print(chi_sq_result_ben_pop)"
      ],
      "metadata": {
        "colab": {
          "base_uri": "https://localhost:8080/"
        },
        "id": "3lNVdMqerjZ3",
        "outputId": "c8a66b09-6774-40d3-9f22-7090ec1f0533"
      },
      "execution_count": 83,
      "outputs": [
        {
          "output_type": "stream",
          "name": "stdout",
          "text": [
            "Power_divergenceResult(statistic=11.84322681811079, pvalue=0.15833698137850147)\n"
          ]
        }
      ]
    },
    {
      "cell_type": "markdown",
      "source": [
        "Since the p value is greater than 0.05, we can't reject the null hypothesis so the Benford's Law is a good fit"
      ],
      "metadata": {
        "id": "uoa0o2KGt_UN"
      }
    },
    {
      "cell_type": "markdown",
      "source": [
        "**(e) (Optional for all students)** To understand how the Benford's law distribution originates, the important idea is that when a random variable $X$ ranges over several orders (say between $0$ and $10^6$), then it is better modelled by saying that $\\log_{10}(X)$ is uniformly distributed on interval $[0,6]$ (rather than $X$ being uniform on $[0,10^6]$. Using this, can you derive the the exact probabilities for each of the leading digits."
      ],
      "metadata": {
        "id": "adS-uJlsuEPA"
      }
    },
    {
      "cell_type": "code",
      "source": [],
      "metadata": {
        "id": "D3iMUEvEuRu8"
      },
      "execution_count": null,
      "outputs": []
    }
  ],
  "metadata": {
    "kernelspec": {
      "display_name": "Python 3",
      "language": "python",
      "name": "python3"
    },
    "language_info": {
      "codemirror_mode": {
        "name": "ipython",
        "version": 3
      },
      "file_extension": ".py",
      "mimetype": "text/x-python",
      "name": "python",
      "nbconvert_exporter": "python",
      "pygments_lexer": "ipython3",
      "version": "3.6.4"
    },
    "colab": {
      "provenance": []
    }
  },
  "nbformat": 4,
  "nbformat_minor": 0
}