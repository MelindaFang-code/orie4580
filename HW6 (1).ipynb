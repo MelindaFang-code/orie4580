{
  "cells": [
    {
      "cell_type": "markdown",
      "metadata": {
        "id": "yEYDm_ICb4GC"
      },
      "source": [
        "# ORIE 4580/5580 Assignment 6\n",
        "\n",
        "#### Students: Chenxin Fang (cf348) and Aaron Ye (ajy33)\n",
        "\n",
        "### Github link: [example Github link](https://github.com/MelindaFang-code/orie4580/blob/main/HW6%20(1).ipynb)\n"
      ]
    },
    {
      "cell_type": "markdown",
      "metadata": {
        "id": "l3G_wUFRg9v6"
      },
      "source": [
        "### Instructions\n",
        "\n",
        "\n",
        "* Due Tuesday, November 14, at 11.59am on Gradescope.\n",
        "* Assignment .ipynb files available for download on [Canvas](https://canvas.cornell.edu/courses/56826#:~:text=Assignments-,Assignments,-Assignments%20Module%20publish). Do all your work in provided notebook (text answers typeset in markdown; show all required code and generate plots inline), and then generate and submit a pdf.\n",
        "* Ideally do assignments in groups of 2, and submit a single pdf with both names\n",
        "* Please show your work and clearly mark your answers.\n",
        "* You can use any code fragments given in class, found online (for example, on StackOverflow), or generated via Bard or ChatGPT (you are encouraged to use these for first drafts) **with proper referencing**. You can also discuss with others (again, please reference them if you do so); but you must write your final answers on your own as a team.\n",
        "\n",
        "\n",
        "\n",
        "### Suggested reading\n",
        "\n",
        "[Mor Harchol-Balter's chapter](https://canvas.cornell.edu/courses/56826/files/9180297/download?download_frd=1) on the Poisson process (on Canvas)"
      ]
    },
    {
      "cell_type": "code",
      "execution_count": null,
      "metadata": {
        "id": "BuF0CwhCmyDX"
      },
      "outputs": [],
      "source": [
        "import numpy as np\n",
        "def getCI(sims, N):\n",
        "  mean = sum(sims)/N\n",
        "  std = np.std(sims)\n",
        "  l = 1.96*std/np.sqrt(N)\n",
        "  print(\"mean = \", mean)\n",
        "  print(\"95% CI = \", mean-l, mean+l)"
      ]
    },
    {
      "cell_type": "code",
      "execution_count": null,
      "metadata": {
        "id": "GsKohDc4Gniy"
      },
      "outputs": [],
      "source": [
        "\n",
        "import scipy.stats as sc\n",
        "import matplotlib.pyplot as plt\n",
        "%matplotlib inline\n",
        "import pandas as pd"
      ]
    },
    {
      "cell_type": "markdown",
      "metadata": {
        "id": "e8ndo1Pm5S9E"
      },
      "source": [
        "___\n",
        "___\n",
        "\n",
        "# Question 1: Everyone goes to Gimme! (25 points)\n",
        "\n",
        "The downtown Ithaca Gimme! store sees a Poisson arrival process with rate\n",
        "\n",
        "$$ \\lambda(t)=\\frac{1}{56}\\left(5t^3-90t^2+300t+1480\\right) \\quad \\text{for } 0 \\leq t \\leq 12,$$\n",
        "\n",
        "over the 12 hours on the weekdays it is open.\n"
      ]
    },
    {
      "cell_type": "markdown",
      "metadata": {
        "id": "F4ENNINL5guU"
      },
      "source": [
        "___\n",
        "\n",
        "**(a)** Compute the exact probability that the coffee store will see more than 250 customers in one 12 hour day. Do not use simulation.\n",
        "___\n"
      ]
    },
    {
      "cell_type": "markdown",
      "metadata": {
        "id": "JISOt5FL5oWO"
      },
      "source": [
        "## Ans."
      ]
    },
    {
      "cell_type": "markdown",
      "metadata": {
        "id": "cBTFTIhHWAXh"
      },
      "source": [
        "Sum of poisson distribution is also poisson distribution. \\\n",
        "Let N be the number of arrivals within 12 hours. Then N follows Poisson distribution with rate\n",
        "$∫_0^{12} \\frac{1}{56}\\left(5t^3-90t^2+300t+1480\\right) = 240$ \\\\\n"
      ]
    },
    {
      "cell_type": "code",
      "execution_count": null,
      "metadata": {
        "colab": {
          "base_uri": "https://localhost:8080/"
        },
        "id": "kn3QR6unYCy9",
        "outputId": "0fe39474-23bf-4d54-ac74-6d6dbe8a4f38"
      },
      "outputs": [
        {
          "data": {
            "text/plain": [
              "0.24711253205956696"
            ]
          },
          "execution_count": 80,
          "metadata": {},
          "output_type": "execute_result"
        }
      ],
      "source": [
        "from scipy.stats import poisson\n",
        "#probability that see smaller or equal to 250 customers\n",
        "prob = poisson.cdf(250, 240)\n",
        "1 - prob"
      ]
    },
    {
      "cell_type": "markdown",
      "metadata": {
        "id": "0T1bCTrYYCFC"
      },
      "source": [
        "The exact probability is thus 0.247"
      ]
    },
    {
      "cell_type": "markdown",
      "metadata": {
        "id": "J9_Sh_Hf5rca"
      },
      "source": [
        "___\n",
        "\n",
        "**(b)** Use thinning to simulate 500 replications of the Poisson arrival process. Based on these replications, estimate the probability in Part (a) and report a 95\\% confidence interval.\n",
        "\n",
        "___"
      ]
    },
    {
      "cell_type": "markdown",
      "metadata": {
        "id": "iZ3iHE745ty7"
      },
      "source": [
        "## Ans.\n",
        "\n"
      ]
    },
    {
      "cell_type": "markdown",
      "metadata": {
        "id": "miBQDJ1hYsWl"
      },
      "source": [
        "$ \\frac{d}{dt}\\lambda(t)=\\frac{1}{56}\\left(15t^2-180t+300\\right) = 0$ \\\\\n",
        "$ (t-2)(t-10) = 0$ \\\\\n",
        "t = 2 or 10\n",
        "\n"
      ]
    },
    {
      "cell_type": "code",
      "execution_count": null,
      "metadata": {
        "colab": {
          "base_uri": "https://localhost:8080/"
        },
        "id": "45qmxWiu52Yd",
        "outputId": "07dc823c-f762-4320-9bf3-bea035e725e5"
      },
      "outputs": [
        {
          "name": "stdout",
          "output_type": "stream",
          "text": [
            "31.428571428571427\n"
          ]
        }
      ],
      "source": [
        "max_lambda = 0\n",
        "l = lambda x: (5*pow(x,3)-90*pow(x,2)+300*x+1480)/56\n",
        "for x in range(1,13):\n",
        "  max_lambda = max(max_lambda, l(x))\n",
        "print(max_lambda)"
      ]
    },
    {
      "cell_type": "code",
      "execution_count": null,
      "metadata": {
        "colab": {
          "base_uri": "https://localhost:8080/"
        },
        "id": "rQde-u9DbaKV",
        "outputId": "d658c2fc-b316-4b85-c345-4bd18b80ac85"
      },
      "outputs": [
        {
          "name": "stdout",
          "output_type": "stream",
          "text": [
            "mean =  0.244\n",
            "95% CI =  0.20635330286997278 0.2816466971300272\n"
          ]
        }
      ],
      "source": [
        "N = 500\n",
        "counter = 0\n",
        "\n",
        "for _ in range(N):\n",
        "  n = 0\n",
        "  T_star = 0\n",
        "\n",
        "  while T_star <= 12:\n",
        "    a = np.random.exponential(scale=1/max_lambda)\n",
        "    T_star += a\n",
        "    u = np.random.rand()\n",
        "    if T_star <= 12 and u <= l(T_star)/max_lambda:\n",
        "      n += 1\n",
        "\n",
        "  counter += n > 250\n",
        "p = counter/N\n",
        "width = 1.96*np.sqrt(p*(1-p)/N)\n",
        "print(\"mean = \", p)\n",
        "print(\"95% CI = \", p-width, p+width)"
      ]
    },
    {
      "cell_type": "markdown",
      "metadata": {
        "id": "atztSUh657dR"
      },
      "source": [
        "___\n",
        "**(c)** Based on your 500 replications, make a bar plot showing the average number of customers who arrive during each of the twelve hours of operation. Plot the rate function $\\lambda(t)$ and compare.\n",
        "___"
      ]
    },
    {
      "cell_type": "markdown",
      "metadata": {
        "id": "uJoZkqXT5_RA"
      },
      "source": [
        "## Ans."
      ]
    },
    {
      "cell_type": "code",
      "execution_count": null,
      "metadata": {
        "id": "sqHHYgOf57GQ"
      },
      "outputs": [],
      "source": [
        "from collections import defaultdict\n",
        "N = 500\n",
        "counter = 0\n",
        "sims = defaultdict(int)\n",
        "for _ in range(N):\n",
        "  n = 0\n",
        "  T_star = 0\n",
        "  # sims.append(defaultdict(int))\n",
        "  while T_star <= 12:\n",
        "    a = np.random.exponential(scale=1/max_lambda)\n",
        "    T_star += a\n",
        "    u = np.random.rand()\n",
        "    if T_star <= 12 and u <= l(T_star)/max_lambda:\n",
        "      n += 1\n",
        "      sims[int(T_star)] += 1\n",
        "\n",
        "  counter += n > 250\n"
      ]
    },
    {
      "cell_type": "code",
      "execution_count": null,
      "metadata": {
        "colab": {
          "base_uri": "https://localhost:8080/",
          "height": 448
        },
        "id": "6ct91psTmucs",
        "outputId": "1f79734a-94f4-4e3f-efd7-6666e6a9039f"
      },
      "outputs": [
        {
          "data": {
            "text/plain": [
              "[<matplotlib.lines.Line2D at 0x7858c4c23460>]"
            ]
          },
          "execution_count": 109,
          "metadata": {},
          "output_type": "execute_result"
        },
        {
          "data": {
            "image/png": "[encoded data removed]",
            "text/plain": [
              "<Figure size 640x480 with 1 Axes>"
            ]
          },
          "metadata": {},
          "output_type": "display_data"
        }
      ],
      "source": [
        "X = np.arange(0, 12)\n",
        "Y = [v/N for v in sims.values()]\n",
        "f = [l(x) for x in X]\n",
        "plt.bar(X, Y, color ='maroon',\n",
        "        width = 0.4)\n",
        "plt.plot(X, f)"
      ]
    },
    {
      "cell_type": "markdown",
      "metadata": {
        "id": "5AMJpIgg0AUP"
      },
      "source": [
        "\n",
        "\n",
        "\n",
        "---\n",
        "---\n",
        "\n",
        "\n",
        "# Question 2: Putting my son to bed (30 points)\n",
        "\n",
        "Sid uses a Spotify playlist with $n$ soothing songs to put his son to sleep. He plays the playlist on shuffle, but is worried that some songs may not get played (he spent a long time curating the playlist!).\n",
        "\n",
        "___\n",
        "**(a)**\n",
        "Suppose Spotify truly picks a random song each time -- Sid wants to know how many songs it takes on average to play **every song** on his playlist. Build a simulator to estimate this for a different values of $n$, and use this to try and guess the function.\n",
        "\n",
        "*Note: Try and pick a large range of $n$ to get a sense of the function of number of songs needed to play all vs. $n$ -- if you are adventurous, try to fit the function. Make sure you always show your CIs!*\n",
        "___"
      ]
    },
    {
      "cell_type": "markdown",
      "metadata": {
        "id": "FdZFPY8J00Nz"
      },
      "source": [
        "## Ans.\n"
      ]
    },
    {
      "cell_type": "code",
      "execution_count": null,
      "metadata": {
        "colab": {
          "base_uri": "https://localhost:8080/"
        },
        "id": "raFoWrMva56b",
        "outputId": "d6934874-a62d-4f81-f8ba-818c6ad16430"
      },
      "outputs": [
        {
          "name": "stdout",
          "output_type": "stream",
          "text": [
            "number of songs =  10\n",
            "mean =  29.777\n",
            "95% CI =  29.092948007039233 30.46105199296077\n",
            "number of songs =  20\n",
            "mean =  72.236\n",
            "95% CI =  70.79495299735005 73.67704700264996\n",
            "number of songs =  40\n",
            "mean =  173.316\n",
            "95% CI =  170.25558182367337 176.37641817632664\n",
            "number of songs =  60\n",
            "mean =  278.354\n",
            "95% CI =  273.7880477223196 282.91995227768035\n",
            "number of songs =  80\n",
            "mean =  393.548\n",
            "95% CI =  387.7754377288284 399.3205622711716\n",
            "number of songs =  100\n",
            "mean =  517.491\n",
            "95% CI =  509.72003726309083 525.2619627369091\n"
          ]
        }
      ],
      "source": [
        "from types import new_class\n",
        "\n",
        "N = 1000\n",
        "def simulator(n, N):\n",
        "  sims = []\n",
        "  for i in range(N):\n",
        "    seen = set()\n",
        "    sims.append(0)\n",
        "    while len(seen) < n:\n",
        "      seen.add(np.random.randint(n, size=1)[0])\n",
        "      sims[-1] += 1\n",
        "  getCI(sims, N)\n",
        "\n",
        "for n in [10, 20, 40, 60, 80, 100]:\n",
        "  print(\"number of songs = \", n)\n",
        "  simulator(n, N)\n"
      ]
    },
    {
      "cell_type": "markdown",
      "metadata": {
        "id": "GhQBfbxriN3R"
      },
      "source": [
        "Let $X$ be the number of draws needed to go over all songs. Let $x_i$ be the number of songs to go over to hear the i-th song after i-1 songs have been played. The probability of hearing the i-th song is $\\frac{n-i+1}{n}$, so $x_i$ has geometric distribution with p = $\\frac{n-i+1}{n}$, the mean of $x_i$ is thus $\\frac{1}{p}=\\frac{n}{n-i+1}$. Then by linearity of expectation, $X = x_1 + x_2 +.. + x_n = \\sum_{i=1}^{n}\\frac{n}{n-i+1} = n(1+\\frac{1}{2}+\\frac{1}{3}+...+\\frac{1}{n}) = nH_n\\text{, where Hn is the nth harmonic number}$\n"
      ]
    },
    {
      "cell_type": "markdown",
      "metadata": {
        "id": "kHPnqRj105lL"
      },
      "source": [
        "___\n",
        "\n",
        "**(b)** On the other hand, Sid has realized that his son wakes up whenever he hears a song that has been played before (clever, isn't he!). Use your previous simulator to figure out how many songs Sid's son hears before he wakes up.\n",
        "\n",
        "___"
      ]
    },
    {
      "cell_type": "markdown",
      "metadata": {
        "id": "o-b5c59b2CV-"
      },
      "source": [
        "## Ans.\n",
        "\n"
      ]
    },
    {
      "cell_type": "code",
      "execution_count": null,
      "metadata": {
        "id": "mT-3ogKx2Hzl"
      },
      "outputs": [],
      "source": [
        "n = 10\n",
        "N = 1000\n",
        "def simulator2(n,N):\n",
        "  sims = []\n",
        "  for i in range(N):\n",
        "    seen = set()\n",
        "    # sims.append([])\n",
        "    counter = 0\n",
        "    # stop = False\n",
        "    while True:\n",
        "      curr = np.random.randint(n, size=1)[0]\n",
        "      counter += 1\n",
        "      if curr in seen:\n",
        "        sims.append(counter)\n",
        "        break\n",
        "      else:\n",
        "        seen.add(curr)\n",
        "  return sims"
      ]
    },
    {
      "cell_type": "code",
      "execution_count": null,
      "metadata": {
        "colab": {
          "base_uri": "https://localhost:8080/"
        },
        "id": "V4xznmitCWPG",
        "outputId": "fdb2760a-37ba-4fc5-f8fd-76bd5a11e97d"
      },
      "outputs": [
        {
          "name": "stdout",
          "output_type": "stream",
          "text": [
            "number of songs =  10\n",
            "mean =  4.625\n",
            "95% CI =  4.517175502783458 4.732824497216542\n",
            "number of songs =  20\n",
            "mean =  6.382\n",
            "95% CI =  6.222045794173457 6.541954205826542\n",
            "number of songs =  40\n",
            "mean =  8.756\n",
            "95% CI =  8.513177720745398 8.998822279254602\n",
            "number of songs =  60\n",
            "mean =  10.354\n",
            "95% CI =  10.054109213788752 10.653890786211246\n",
            "number of songs =  80\n",
            "mean =  11.94\n",
            "95% CI =  11.587219600544474 12.292780399455525\n",
            "number of songs =  100\n",
            "mean =  13.08\n",
            "95% CI =  12.707364874226812 13.452635125773188\n"
          ]
        }
      ],
      "source": [
        "for n in [10, 20, 40, 60, 80, 100]:\n",
        "  print(\"number of songs = \", n)\n",
        "  sims = simulator2(n, N)\n",
        "  # print(sims)\n",
        "  getCI(sims, N)"
      ]
    },
    {
      "cell_type": "markdown",
      "metadata": {
        "id": "SGw7QR3-2e_3"
      },
      "source": [
        "___\n",
        "\n",
        "**(c)** Suppose Spotify uses the following poor randomizer: it labels songs as $\\{0,1,2,\\ldots,n-1\\}$, and after playing a song $i$, it then either plays song $(i+1) mod(n)$ or $(i-1)mod(n)$ with probability $1/2$ (i.e., the next or previous song, imagining the songs to be in a ring with $n-1$ wrapping around to $1$). Simulate this randomizer for $n=20$, assuming you always start at song $1$, and find the histogram of the **last song to be played** for the first time using this shuffler.   \n",
        "\n",
        "___"
      ]
    },
    {
      "cell_type": "markdown",
      "metadata": {
        "id": "rbtZKA4I2wzN"
      },
      "source": [
        "## Ans."
      ]
    },
    {
      "cell_type": "code",
      "execution_count": null,
      "metadata": {
        "id": "SdhOiOuZ2yO-"
      },
      "outputs": [],
      "source": [
        "def simulator3(N):\n",
        "  n = 20\n",
        "  sims = []\n",
        "  for i in range(N):\n",
        "    seen = set()\n",
        "    curr = 1\n",
        "    last = 1\n",
        "    while len(seen) < n:\n",
        "      last = curr\n",
        "      seen.add(curr)\n",
        "      prob = np.random.rand()\n",
        "      val = 1 if prob > 0.5 else -1\n",
        "      curr = (curr + val + n)%n\n",
        "    sims.append(last)\n",
        "  return sims"
      ]
    },
    {
      "cell_type": "code",
      "execution_count": null,
      "metadata": {
        "colab": {
          "base_uri": "https://localhost:8080/",
          "height": 534
        },
        "id": "SL9hDL-iErXk",
        "outputId": "0f977f44-5b4e-4bdb-c5e3-39d219dd6aa4"
      },
      "outputs": [
        {
          "name": "stdout",
          "output_type": "stream",
          "text": [
            "Counter({13: 584, 9: 574, 10: 555, 11: 551, 16: 544, 2: 542, 8: 537, 19: 529, 5: 529, 3: 518, 12: 516, 6: 512, 18: 511, 7: 510, 17: 509, 0: 506, 4: 501, 15: 497, 14: 475})\n"
          ]
        },
        {
          "data": {
            "text/plain": [
              "(array([506.,   0., 542., 518., 501., 529., 512., 510., 537., 574., 555.,\n",
              "        551., 516., 584., 475., 497., 544., 509., 511., 529.]),\n",
              " array([ 0.,  1.,  2.,  3.,  4.,  5.,  6.,  7.,  8.,  9., 10., 11., 12.,\n",
              "        13., 14., 15., 16., 17., 18., 19., 20.]),\n",
              " <BarContainer object of 20 artists>)"
            ]
          },
          "execution_count": 26,
          "metadata": {},
          "output_type": "execute_result"
        },
        {
          "data": {
            "image/png": "[encoded data removed]",
            "text/plain": [
              "<Figure size 640x480 with 1 Axes>"
            ]
          },
          "metadata": {},
          "output_type": "display_data"
        }
      ],
      "source": [
        "from collections import Counter\n",
        "\n",
        "sims = simulator3(10000)\n",
        "print(Counter(sims))\n",
        "plt.hist(sims, bins=range(0, 21))"
      ]
    },
    {
      "cell_type": "markdown",
      "metadata": {
        "id": "RtMo9ndo3DbA"
      },
      "source": [
        "___\n",
        "\n",
        "**(d) (OPTIONAL)** For the above three questions, try and analytically derive the functions that you should get (and compare)\n",
        "\n",
        "1c, they are all symmetrical since its a random walk."
      ]
    },
    {
      "cell_type": "markdown",
      "metadata": {
        "id": "Jq3RRJUG2z09"
      },
      "source": [
        "___\n",
        "___\n",
        "\n",
        "# Question 3: The gambler's ruin (20 points)\n",
        "\n",
        "The gambler's ruin is one of the most famous and widely studied models in stochastic processes. Imagine two gamblers $A$ and $B$ are playing a tournament, where they each start with \\$$a$ and \\$$b$ initially, and play a sequence of games, where each game is won by either player with probability $1/2$, with the winner giving \\$$1$ to the loser. Play goes on till one player runs out of money.\n",
        "\n",
        "___\n",
        "\n",
        "**(a)** Simulate this model to find the probability that player $A$ wins the overall tournament. Also, try and derive this analytically, and see how well the two match up.\n",
        "\n",
        "___"
      ]
    },
    {
      "cell_type": "markdown",
      "metadata": {
        "id": "Sor0QvV94lrw"
      },
      "source": [
        "## Ans."
      ]
    },
    {
      "cell_type": "code",
      "execution_count": 116,
      "metadata": {
        "colab": {
          "base_uri": "https://localhost:8080/",
          "height": 0
        },
        "id": "1SRs7O1BNNY_",
        "outputId": "682efbbf-9f6e-4aaa-f5b7-b2555eeb4801"
      },
      "outputs": [
        {
          "name": "stdout",
          "output_type": "stream",
          "text": [
            "A's asset is 0.3 of total asset\n",
            "0.647\n",
            "A's asset is 0.5 of total asset\n",
            "0.51\n",
            "A's asset is 0.8 of total asset\n",
            "0.202\n"
          ]
        }
      ],
      "source": [
        "total = 100\n",
        "trials = 1000\n",
        "res = []\n",
        "probs = [0.3, 0.5, 0.8]\n",
        "for a in probs:\n",
        "  # res.append([])\n",
        "  counter = 0\n",
        "  for _ in range(trials):\n",
        "    A = total*a\n",
        "    while A > 0 and A < total:\n",
        "      curr = np.random.rand()\n",
        "      if curr <= 0.5:\n",
        "        A += 1\n",
        "      else:\n",
        "        A -= 1\n",
        "    counter += A == 0\n",
        "    # res[-1].append(counter)\n",
        "  res.append(counter)\n",
        "\n",
        "for i, a in enumerate(probs):\n",
        "  print(\"A's asset is\", a, \"of total asset\")\n",
        "  print(res[i]/trials)"
      ]
    },
    {
      "cell_type": "markdown",
      "metadata": {
        "id": "C3bo5MWzhRXY"
      },
      "source": [
        "Analytical Solution: A has probability of winning = a/(a+b) \\\\\n",
        "Assume the number of rounds for A or B to win is N. Let $S_n$ be the asset at time n, $x_i$ be the result of 1 round, it is -1 if a wins and 1 if a loses, $p$ be the probability that a wins \\\\\n",
        "$E[S_n] = E[pa + (1-p)b] = 0$ \\\\\n",
        "$p = \\frac{b}{a+b}$ \\\\"
      ]
    },
    {
      "cell_type": "markdown",
      "metadata": {
        "id": "yamKqPJe4syT"
      },
      "source": [
        "___\n",
        "**(b)** Another question we can ask is how long it takes for the tournament to end. To study this, simulate the gambler's ruin for a range of values of $a$ and $b$, and use this to try and guess the expected time to ruin.\n",
        "\n",
        "*Hint: Convince yourself that the function must be symmetric in $a$ and $b$, so you can assume $a\\leq b$. Try plotting the expected absorption times for selected values of $a$, while varying $b$.*\n",
        "\n",
        "___"
      ]
    },
    {
      "cell_type": "markdown",
      "metadata": {
        "id": "NOU2vkmw46k1"
      },
      "source": [
        "## Ans."
      ]
    },
    {
      "cell_type": "code",
      "execution_count": null,
      "metadata": {
        "colab": {
          "base_uri": "https://localhost:8080/"
        },
        "id": "7QtijqJS4nsY",
        "outputId": "82e28a48-8d22-4abb-a5f9-64d4dd8694b7"
      },
      "outputs": [
        {
          "name": "stdout",
          "output_type": "stream",
          "text": [
            "A's asset is  0.3 of total asset\n",
            "mean =  2084.22\n",
            "95% CI =  1966.7605272460555 2201.679472753944\n",
            "A's asset is  0.5 of total asset\n",
            "mean =  2505.628\n",
            "95% CI =  2380.2584855146292 2630.997514485371\n",
            "A's asset is  0.8 of total asset\n",
            "mean =  1694.334\n",
            "95% CI =  1572.773993684146 1815.894006315854\n"
          ]
        }
      ],
      "source": [
        "total = 100\n",
        "trials = 1000\n",
        "res = []\n",
        "probs = [0.3, 0.5, 0.8]\n",
        "for a in probs:\n",
        "  res.append([])\n",
        "  for _ in range(trials):\n",
        "    A = total*a\n",
        "    counter = 0\n",
        "    while A > 0 and A < total:\n",
        "      counter += 1\n",
        "      curr = np.random.rand()\n",
        "      if curr <= 0.5:\n",
        "        A += 1\n",
        "      else:\n",
        "        A -= 1\n",
        "\n",
        "    res[-1].append(counter)\n",
        "\n",
        "for i, a in enumerate(probs):\n",
        "  print(\"A's asset is\", a, \"of total asset\")\n",
        "  getCI(res[i], trials)\n",
        "\n"
      ]
    },
    {
      "cell_type": "markdown",
      "metadata": {
        "id": "yiuNdbNsPqam"
      },
      "source": [
        "Analytical Solution: E[N] = ab \\\\\n",
        "$E[S_n] = 0$ \\\\\n",
        "$E[S_n^2] = Var[S_n] - (E[S_n])^2 = Var[S_n] = \\sum_{i=0}^nvar[x_i] = n$ \\\\\n",
        "$E[S_n^2 - N] = E[S_n^2] - E[N] = a^2p + b^2(1-p) - E[N] = 0$ \\\\\n",
        "plug in p = $\\frac{b}{a+b}$ \\\\\n",
        "$\\frac{a^2b}{a+b} + \\frac{b^2a}{a+b} - E[N] = 0 $ \\\\\n",
        "$\\frac{(a+b)ab}{a+b} = E[N]$ \\\\\n",
        "E[N] = ab"
      ]
    },
    {
      "cell_type": "markdown",
      "metadata": {
        "id": "YX0Mw-EVb4GE"
      },
      "source": [
        "___\n",
        "___\n",
        "\n",
        "# Question 4: Simulation assigments take forever (25 points)\n",
        "\n",
        "You are convinced that Simulation homeworks take the longest time compared to all other assignments, while Sid maintains that all assignment times are identically distributed. To decide this debate once and for all, you decide to record how long it takes you to do your assignment, and then survey your friends on how long it took them to do their last assignment until you find someone who took longer$\\ldots$"
      ]
    },
    {
      "cell_type": "markdown",
      "metadata": {
        "id": "Yjy3dHqpb4GF"
      },
      "source": [
        "___\n",
        "\n",
        "**(a)**\n",
        "Suppose Sid is right (!) and all assignment completion times are truly identically distributed. Formally suppose your own assignment takes time (in hours) distributed as $T_0\\sim Exp(0.5)$, and similarly the $i^{th}$ friend you survey also takes time $T_i\\sim Exp(0.5)$, independent of all other friends. Run 100 simulations and report a $95\\%$ CI for the expected number of friends you need to survey to find someone who takes longer.\n",
        "___\n"
      ]
    },
    {
      "cell_type": "markdown",
      "metadata": {
        "id": "wOQnI769b4GF"
      },
      "source": [
        "## Ans.\n"
      ]
    },
    {
      "cell_type": "code",
      "execution_count": null,
      "metadata": {
        "id": "Gcw5G3Lupqu6"
      },
      "outputs": [],
      "source": [
        "import numpy as np\n",
        "import matplotlib.pyplot as plt\n",
        "\n",
        "def sim(mu, trials):\n",
        "  res = np.zeros(trials)\n",
        "\n",
        "  for x in range(trials):\n",
        "    myT = np.random.exponential(scale=1/mu)\n",
        "    friendT = 0\n",
        "    count = 0\n",
        "    while friendT < myT:\n",
        "      friendT = np.random.exponential(scale=1/mu)\n",
        "      count += 1\n",
        "    res[x] = count\n",
        "  return res\n",
        "\n",
        "def getStats(res):\n",
        "  t = len(res)\n",
        "  avg = res.mean()\n",
        "  std = res.std()/np.sqrt(t)\n",
        "  lo = avg - 1.96*std\n",
        "  hi = avg + 1.96*std\n",
        "  print(f'trials = {t} 95% CI: [{lo}, {hi}]')\n",
        "  return avg, lo, hi"
      ]
    },
    {
      "cell_type": "code",
      "execution_count": null,
      "metadata": {
        "colab": {
          "base_uri": "https://localhost:8080/"
        },
        "id": "AUWrj8NDrr0l",
        "outputId": "9eb254da-2d02-46aa-9661-e489fb24c567"
      },
      "outputs": [
        {
          "name": "stdout",
          "output_type": "stream",
          "text": [
            "trials = 100 95% CI: [2.2723532483525037, 4.587646751647497]\n"
          ]
        },
        {
          "data": {
            "text/plain": [
              "(3.43, 2.2723532483525037, 4.587646751647497)"
            ]
          },
          "execution_count": 54,
          "metadata": {},
          "output_type": "execute_result"
        }
      ],
      "source": [
        "trials = 100\n",
        "mu = 0.5\n",
        "res = sim(mu, trials)\n",
        "\n",
        "getStats(res)"
      ]
    },
    {
      "cell_type": "markdown",
      "metadata": {
        "id": "DRpHC9hbb4GF"
      },
      "source": [
        "___\n",
        "\n",
        "**(b)** You are concerned that the CI looks a little wide, so decide to do more replications to fix the problem. Repeat the above simulation with number of replications $n\\in\\{100,500,1000,1500,2000,2500,\\ldots,9500,10000\\}$, and plot the estimates and $95\\%$ CIs.\n",
        "___"
      ]
    },
    {
      "cell_type": "code",
      "execution_count": null,
      "metadata": {
        "colab": {
          "base_uri": "https://localhost:8080/",
          "height": 795
        },
        "id": "nTCJVzAzrE8g",
        "outputId": "62643a4f-f3c1-4e3c-f133-f90f631c6896"
      },
      "outputs": [
        {
          "name": "stdout",
          "output_type": "stream",
          "text": [
            "trials = 100 95% CI: [3.1460700652667883, 16.973929934733214]\n",
            "trials = 500 95% CI: [3.4118333562097694, 5.35216664379023]\n",
            "trials = 1000 95% CI: [-15.924736258076504, 76.6527362580765]\n",
            "trials = 1500 95% CI: [3.3486771544128136, 20.541989512253856]\n",
            "trials = 2000 95% CI: [6.5288918400588525, 14.406108159941146]\n",
            "trials = 2500 95% CI: [-101.03334813816464, 342.95414813816467]\n",
            "trials = 3000 95% CI: [5.55613804211665, 12.533195291216682]\n",
            "trials = 3500 95% CI: [-0.641352749137404, 31.128209891994548]\n",
            "trials = 4000 95% CI: [-9.32400240804196, 68.06300240804195]\n",
            "trials = 4500 95% CI: [6.836297031019794, 13.64014741342465]\n",
            "trials = 5000 95% CI: [6.09659821994298, 9.16780178005702]\n",
            "trials = 5500 95% CI: [7.249946360041767, 12.540599094503689]\n",
            "trials = 6000 95% CI: [-59.35390795543731, 215.34390795543732]\n",
            "trials = 6500 95% CI: [4.611567192046183, 20.083509731030738]\n",
            "trials = 7000 95% CI: [-84.30125797152846, 299.52554368581417]\n",
            "trials = 7500 95% CI: [4.993182080094619, 15.962284586572046]\n",
            "trials = 8000 95% CI: [1.2606560941206553, 27.516343905879346]\n",
            "trials = 8500 95% CI: [7.943766064496993, 14.28941040609124]\n",
            "trials = 9000 95% CI: [6.075362249296379, 23.947304417370287]\n",
            "trials = 9500 95% CI: [7.00443914495997, 9.669245065566345]\n",
            "trials = 10000 95% CI: [6.24590306313967, 11.337296936860332]\n"
          ]
        },
        {
          "data": {
            "image/png": "[encoded data removed]",
            "text/plain": [
              "<Figure size 640x480 with 1 Axes>"
            ]
          },
          "metadata": {},
          "output_type": "display_data"
        }
      ],
      "source": [
        "trials = [100]\n",
        "for i in range(500, 10000+1, 500):\n",
        "  trials.append(i)\n",
        "\n",
        "lower, upper, mid = [], [], []\n",
        "\n",
        "mu = 0.5\n",
        "for x in trials:\n",
        "  res = sim(mu, x)\n",
        "  avg, lo, hi = getStats(res)\n",
        "  mid.append(avg)\n",
        "  lower.append(lo)\n",
        "  upper.append(hi)\n",
        "\n",
        "plt.plot(trials, mid)\n",
        "plt.plot(trials, lower)\n",
        "plt.plot(trials, upper)\n",
        "plt.show()\n"
      ]
    },
    {
      "cell_type": "markdown",
      "metadata": {
        "id": "1khe5-56b4GF"
      },
      "source": [
        "## Ans.\n"
      ]
    },
    {
      "cell_type": "markdown",
      "metadata": {
        "id": "9NNPvFQY0HM4"
      },
      "source": [
        "___\n",
        "**(c)** Hopefully you found the previous part a little surprising(?) Why is that the case? Well, this question highlights an important aspect of simulation that we have taken for granted in past problems -- in order to get an estimator for an unknown quantity, we *need that quantity to be finite*! Find an expression for computing the expected number of queries till we get one which is larger in the above setting, and argue that it is infinite.\n",
        "\n",
        "*Hint: Remember how we used linearity of expectation and indicator random variables before? Try doing the same, with indicator variables for the $i^{th}$ person (for each $i\\in\\{1,2,\\ldots\\}$) being the first person surveyed who took longer than you).*\n",
        "___\n"
      ]
    },
    {
      "cell_type": "markdown",
      "metadata": {
        "id": "g2AJuYY20z1W"
      },
      "source": [
        "## Ans"
      ]
    },
    {
      "cell_type": "markdown",
      "metadata": {
        "id": "e1EZGPx1pZMm"
      },
      "source": [
        "$x_i$ is of $Exp(λ)$ \\\n",
        "probability of x_i being larger is $1 - F_x$, so the expected number of queries is $\\frac{1}{1-F_x}$ \\\n",
        "$\\int_0^{∞}f_x\\frac{1}{1-F_x}dx = \\int_0^{∞}\\lambda(e^{-\\lambda x})\\frac{1}{e^{-\\lambda x}}dx = \\int_0^{∞}\\lambda dx = ∞$"
      ]
    }
  ],
  "metadata": {
    "colab": {
      "provenance": []
    },
    "kernelspec": {
      "display_name": "Python 3",
      "language": "python",
      "name": "python3"
    },
    "language_info": {
      "codemirror_mode": {
        "name": "ipython",
        "version": 3
      },
      "file_extension": ".py",
      "mimetype": "text/x-python",
      "name": "python",
      "nbconvert_exporter": "python",
      "pygments_lexer": "ipython3",
      "version": "3.6.4"
    }
  },
  "nbformat": 4,
  "nbformat_minor": 0
}
